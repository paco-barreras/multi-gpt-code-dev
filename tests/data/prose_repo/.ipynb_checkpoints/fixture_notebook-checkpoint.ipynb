{
 "cells": [
  {
   "cell_type": "markdown",
   "id": "9473fce6",
   "metadata": {},
   "source": [
    "# Top Level\n",
    "\n",
    "Some intro text.\n",
    "\n",
    "Line A\n",
    "\n",
    "Line B\n",
    "\n",
    "Line C\n",
    "\n",
    "Line D\n"
   ]
  },
  {
   "cell_type": "markdown",
   "id": "9ded710c",
   "metadata": {},
   "source": [
    "## Subsection\n",
    "\n",
    "More prose.\n",
    "\n",
    "Line A\n",
    "\n",
    "Line B\n",
    "\n",
    "Line C\n",
    "\n",
    "Line D\n"
   ]
  },
  {
   "cell_type": "markdown",
   "id": "128202ad",
   "metadata": {},
   "source": [
    "### Deep Section\n",
    "\n",
    "Even more prose.\n",
    "Line A\n",
    "Line B\n",
    "Line C\n",
    "Line D\n"
   ]
  },
  {
   "cell_type": "code",
   "execution_count": null,
   "id": "18a971f3",
   "metadata": {},
   "outputs": [],
   "source": [
    "%timeit range(100)"
   ]
  },
  {
   "cell_type": "code",
   "execution_count": null,
   "id": "aaf38d7b",
   "metadata": {},
   "outputs": [],
   "source": [
    "!echo \"hello\""
   ]
  },
  {
   "cell_type": "markdown",
   "id": "01b614d6",
   "metadata": {
    "tags": [
     "ignore"
    ]
   },
   "source": [
    "This is an ignored cell."
   ]
  },
  {
   "cell_type": "markdown",
   "id": "6c122ff4",
   "metadata": {},
   "source": [
    "This is just another ordinary paragraph of text to be included."
   ]
  }
 ],
 "metadata": {
  "kernelspec": {
   "display_name": "Python 3 (ipykernel)",
   "language": "python",
   "name": "python3"
  },
  "language_info": {
   "name": "python",
   "version": "3.9"
  }
 },
 "nbformat": 4,
 "nbformat_minor": 5
}
